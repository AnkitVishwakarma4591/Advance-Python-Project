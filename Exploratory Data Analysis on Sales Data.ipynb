{
 "cells": [
  {
   "cell_type": "markdown",
   "id": "977aa580-df5f-4ce8-9b17-c149c07e341f",
   "metadata": {},
   "source": [
    "# Importing all the importanat libraries for Data Cleaning and EDA"
   ]
  },
  {
   "cell_type": "code",
   "execution_count": 11,
   "id": "208e2c0c-6a5e-4d5f-b83c-3dae6384a94c",
   "metadata": {},
   "outputs": [],
   "source": [
    "import pandas as pd\n",
    "import numpy as np\n",
    "import matplotlib.pyplot as plt\n",
    "import seaborn as sns"
   ]
  },
  {
   "cell_type": "code",
   "execution_count": null,
   "id": "a975ca28-77ae-4427-a189-20b08a82831b",
   "metadata": {},
   "outputs": [],
   "source": []
  },
  {
   "cell_type": "code",
   "execution_count": 12,
   "id": "30c733fb-2b4a-4794-9c8b-f8d0973bb305",
   "metadata": {},
   "outputs": [],
   "source": [
    "# Loading dataset into notebook"
   ]
  },
  {
   "cell_type": "code",
   "execution_count": 13,
   "id": "3b6579ef-2804-4088-b865-6b45ce1af0aa",
   "metadata": {},
   "outputs": [],
   "source": [
    "df = pd.read_csv('sales_data_sample.csv',encoding='ISO-8859-1')"
   ]
  },
  {
   "cell_type": "code",
   "execution_count": null,
   "id": "bfd3539a-ec76-4f3a-9bce-2571e61b85da",
   "metadata": {},
   "outputs": [],
   "source": []
  },
  {
   "cell_type": "code",
   "execution_count": 14,
   "id": "a3727b8a-7e65-4af0-a858-3491842cb72a",
   "metadata": {},
   "outputs": [],
   "source": [
    "# Checking first five of dataset"
   ]
  },
  {
   "cell_type": "code",
   "execution_count": 15,
   "id": "29e6aaed-2f5f-4242-a7d1-c9ec0c6f2145",
   "metadata": {},
   "outputs": [
    {
     "data": {
      "text/html": [
       "<div>\n",
       "<style scoped>\n",
       "    .dataframe tbody tr th:only-of-type {\n",
       "        vertical-align: middle;\n",
       "    }\n",
       "\n",
       "    .dataframe tbody tr th {\n",
       "        vertical-align: top;\n",
       "    }\n",
       "\n",
       "    .dataframe thead th {\n",
       "        text-align: right;\n",
       "    }\n",
       "</style>\n",
       "<table border=\"1\" class=\"dataframe\">\n",
       "  <thead>\n",
       "    <tr style=\"text-align: right;\">\n",
       "      <th></th>\n",
       "      <th>ORDERNUMBER</th>\n",
       "      <th>QUANTITYORDERED</th>\n",
       "      <th>PRICEEACH</th>\n",
       "      <th>ORDERLINENUMBER</th>\n",
       "      <th>SALES</th>\n",
       "      <th>ORDERDATE</th>\n",
       "      <th>STATUS</th>\n",
       "      <th>QTR_ID</th>\n",
       "      <th>MONTH_ID</th>\n",
       "      <th>YEAR_ID</th>\n",
       "      <th>...</th>\n",
       "      <th>ADDRESSLINE1</th>\n",
       "      <th>ADDRESSLINE2</th>\n",
       "      <th>CITY</th>\n",
       "      <th>STATE</th>\n",
       "      <th>POSTALCODE</th>\n",
       "      <th>COUNTRY</th>\n",
       "      <th>TERRITORY</th>\n",
       "      <th>CONTACTLASTNAME</th>\n",
       "      <th>CONTACTFIRSTNAME</th>\n",
       "      <th>DEALSIZE</th>\n",
       "    </tr>\n",
       "  </thead>\n",
       "  <tbody>\n",
       "    <tr>\n",
       "      <th>0</th>\n",
       "      <td>10107</td>\n",
       "      <td>30</td>\n",
       "      <td>95.70</td>\n",
       "      <td>2</td>\n",
       "      <td>2871.00</td>\n",
       "      <td>2/24/2003 0:00</td>\n",
       "      <td>Shipped</td>\n",
       "      <td>1</td>\n",
       "      <td>2</td>\n",
       "      <td>2003</td>\n",
       "      <td>...</td>\n",
       "      <td>897 Long Airport Avenue</td>\n",
       "      <td>NaN</td>\n",
       "      <td>NYC</td>\n",
       "      <td>NY</td>\n",
       "      <td>10022</td>\n",
       "      <td>USA</td>\n",
       "      <td>NaN</td>\n",
       "      <td>Yu</td>\n",
       "      <td>Kwai</td>\n",
       "      <td>Small</td>\n",
       "    </tr>\n",
       "    <tr>\n",
       "      <th>1</th>\n",
       "      <td>10121</td>\n",
       "      <td>34</td>\n",
       "      <td>81.35</td>\n",
       "      <td>5</td>\n",
       "      <td>2765.90</td>\n",
       "      <td>5/7/2003 0:00</td>\n",
       "      <td>Shipped</td>\n",
       "      <td>2</td>\n",
       "      <td>5</td>\n",
       "      <td>2003</td>\n",
       "      <td>...</td>\n",
       "      <td>59 rue de l'Abbaye</td>\n",
       "      <td>NaN</td>\n",
       "      <td>Reims</td>\n",
       "      <td>NaN</td>\n",
       "      <td>51100</td>\n",
       "      <td>France</td>\n",
       "      <td>EMEA</td>\n",
       "      <td>Henriot</td>\n",
       "      <td>Paul</td>\n",
       "      <td>Small</td>\n",
       "    </tr>\n",
       "    <tr>\n",
       "      <th>2</th>\n",
       "      <td>10134</td>\n",
       "      <td>41</td>\n",
       "      <td>94.74</td>\n",
       "      <td>2</td>\n",
       "      <td>3884.34</td>\n",
       "      <td>7/1/2003 0:00</td>\n",
       "      <td>Shipped</td>\n",
       "      <td>3</td>\n",
       "      <td>7</td>\n",
       "      <td>2003</td>\n",
       "      <td>...</td>\n",
       "      <td>27 rue du Colonel Pierre Avia</td>\n",
       "      <td>NaN</td>\n",
       "      <td>Paris</td>\n",
       "      <td>NaN</td>\n",
       "      <td>75508</td>\n",
       "      <td>France</td>\n",
       "      <td>EMEA</td>\n",
       "      <td>Da Cunha</td>\n",
       "      <td>Daniel</td>\n",
       "      <td>Medium</td>\n",
       "    </tr>\n",
       "    <tr>\n",
       "      <th>3</th>\n",
       "      <td>10145</td>\n",
       "      <td>45</td>\n",
       "      <td>83.26</td>\n",
       "      <td>6</td>\n",
       "      <td>3746.70</td>\n",
       "      <td>8/25/2003 0:00</td>\n",
       "      <td>Shipped</td>\n",
       "      <td>3</td>\n",
       "      <td>8</td>\n",
       "      <td>2003</td>\n",
       "      <td>...</td>\n",
       "      <td>78934 Hillside Dr.</td>\n",
       "      <td>NaN</td>\n",
       "      <td>Pasadena</td>\n",
       "      <td>CA</td>\n",
       "      <td>90003</td>\n",
       "      <td>USA</td>\n",
       "      <td>NaN</td>\n",
       "      <td>Young</td>\n",
       "      <td>Julie</td>\n",
       "      <td>Medium</td>\n",
       "    </tr>\n",
       "    <tr>\n",
       "      <th>4</th>\n",
       "      <td>10159</td>\n",
       "      <td>49</td>\n",
       "      <td>100.00</td>\n",
       "      <td>14</td>\n",
       "      <td>5205.27</td>\n",
       "      <td>10/10/2003 0:00</td>\n",
       "      <td>Shipped</td>\n",
       "      <td>4</td>\n",
       "      <td>10</td>\n",
       "      <td>2003</td>\n",
       "      <td>...</td>\n",
       "      <td>7734 Strong St.</td>\n",
       "      <td>NaN</td>\n",
       "      <td>San Francisco</td>\n",
       "      <td>CA</td>\n",
       "      <td>NaN</td>\n",
       "      <td>USA</td>\n",
       "      <td>NaN</td>\n",
       "      <td>Brown</td>\n",
       "      <td>Julie</td>\n",
       "      <td>Medium</td>\n",
       "    </tr>\n",
       "  </tbody>\n",
       "</table>\n",
       "<p>5 rows × 25 columns</p>\n",
       "</div>"
      ],
      "text/plain": [
       "   ORDERNUMBER  QUANTITYORDERED  PRICEEACH  ORDERLINENUMBER    SALES  \\\n",
       "0        10107               30      95.70                2  2871.00   \n",
       "1        10121               34      81.35                5  2765.90   \n",
       "2        10134               41      94.74                2  3884.34   \n",
       "3        10145               45      83.26                6  3746.70   \n",
       "4        10159               49     100.00               14  5205.27   \n",
       "\n",
       "         ORDERDATE   STATUS  QTR_ID  MONTH_ID  YEAR_ID  ...  \\\n",
       "0   2/24/2003 0:00  Shipped       1         2     2003  ...   \n",
       "1    5/7/2003 0:00  Shipped       2         5     2003  ...   \n",
       "2    7/1/2003 0:00  Shipped       3         7     2003  ...   \n",
       "3   8/25/2003 0:00  Shipped       3         8     2003  ...   \n",
       "4  10/10/2003 0:00  Shipped       4        10     2003  ...   \n",
       "\n",
       "                    ADDRESSLINE1  ADDRESSLINE2           CITY STATE  \\\n",
       "0        897 Long Airport Avenue           NaN            NYC    NY   \n",
       "1             59 rue de l'Abbaye           NaN          Reims   NaN   \n",
       "2  27 rue du Colonel Pierre Avia           NaN          Paris   NaN   \n",
       "3             78934 Hillside Dr.           NaN       Pasadena    CA   \n",
       "4                7734 Strong St.           NaN  San Francisco    CA   \n",
       "\n",
       "  POSTALCODE COUNTRY TERRITORY CONTACTLASTNAME CONTACTFIRSTNAME DEALSIZE  \n",
       "0      10022     USA       NaN              Yu             Kwai    Small  \n",
       "1      51100  France      EMEA         Henriot             Paul    Small  \n",
       "2      75508  France      EMEA        Da Cunha           Daniel   Medium  \n",
       "3      90003     USA       NaN           Young            Julie   Medium  \n",
       "4        NaN     USA       NaN           Brown            Julie   Medium  \n",
       "\n",
       "[5 rows x 25 columns]"
      ]
     },
     "execution_count": 15,
     "metadata": {},
     "output_type": "execute_result"
    }
   ],
   "source": [
    "df.head()"
   ]
  },
  {
   "cell_type": "code",
   "execution_count": null,
   "id": "76b94daf-6dd8-4844-9f53-1d9c377e76f8",
   "metadata": {},
   "outputs": [],
   "source": []
  },
  {
   "cell_type": "code",
   "execution_count": 16,
   "id": "8741fe6f-0730-4812-bd64-7fe424520012",
   "metadata": {},
   "outputs": [],
   "source": [
    "# last five rows of dataset"
   ]
  },
  {
   "cell_type": "code",
   "execution_count": 17,
   "id": "b5aa46f8-932e-462e-9841-41b8b27530a6",
   "metadata": {},
   "outputs": [
    {
     "data": {
      "text/html": [
       "<div>\n",
       "<style scoped>\n",
       "    .dataframe tbody tr th:only-of-type {\n",
       "        vertical-align: middle;\n",
       "    }\n",
       "\n",
       "    .dataframe tbody tr th {\n",
       "        vertical-align: top;\n",
       "    }\n",
       "\n",
       "    .dataframe thead th {\n",
       "        text-align: right;\n",
       "    }\n",
       "</style>\n",
       "<table border=\"1\" class=\"dataframe\">\n",
       "  <thead>\n",
       "    <tr style=\"text-align: right;\">\n",
       "      <th></th>\n",
       "      <th>ORDERNUMBER</th>\n",
       "      <th>QUANTITYORDERED</th>\n",
       "      <th>PRICEEACH</th>\n",
       "      <th>ORDERLINENUMBER</th>\n",
       "      <th>SALES</th>\n",
       "      <th>ORDERDATE</th>\n",
       "      <th>STATUS</th>\n",
       "      <th>QTR_ID</th>\n",
       "      <th>MONTH_ID</th>\n",
       "      <th>YEAR_ID</th>\n",
       "      <th>...</th>\n",
       "      <th>ADDRESSLINE1</th>\n",
       "      <th>ADDRESSLINE2</th>\n",
       "      <th>CITY</th>\n",
       "      <th>STATE</th>\n",
       "      <th>POSTALCODE</th>\n",
       "      <th>COUNTRY</th>\n",
       "      <th>TERRITORY</th>\n",
       "      <th>CONTACTLASTNAME</th>\n",
       "      <th>CONTACTFIRSTNAME</th>\n",
       "      <th>DEALSIZE</th>\n",
       "    </tr>\n",
       "  </thead>\n",
       "  <tbody>\n",
       "    <tr>\n",
       "      <th>2818</th>\n",
       "      <td>10350</td>\n",
       "      <td>20</td>\n",
       "      <td>100.00</td>\n",
       "      <td>15</td>\n",
       "      <td>2244.40</td>\n",
       "      <td>12/2/2004 0:00</td>\n",
       "      <td>Shipped</td>\n",
       "      <td>4</td>\n",
       "      <td>12</td>\n",
       "      <td>2004</td>\n",
       "      <td>...</td>\n",
       "      <td>C/ Moralzarzal, 86</td>\n",
       "      <td>NaN</td>\n",
       "      <td>Madrid</td>\n",
       "      <td>NaN</td>\n",
       "      <td>28034</td>\n",
       "      <td>Spain</td>\n",
       "      <td>EMEA</td>\n",
       "      <td>Freyre</td>\n",
       "      <td>Diego</td>\n",
       "      <td>Small</td>\n",
       "    </tr>\n",
       "    <tr>\n",
       "      <th>2819</th>\n",
       "      <td>10373</td>\n",
       "      <td>29</td>\n",
       "      <td>100.00</td>\n",
       "      <td>1</td>\n",
       "      <td>3978.51</td>\n",
       "      <td>1/31/2005 0:00</td>\n",
       "      <td>Shipped</td>\n",
       "      <td>1</td>\n",
       "      <td>1</td>\n",
       "      <td>2005</td>\n",
       "      <td>...</td>\n",
       "      <td>Torikatu 38</td>\n",
       "      <td>NaN</td>\n",
       "      <td>Oulu</td>\n",
       "      <td>NaN</td>\n",
       "      <td>90110</td>\n",
       "      <td>Finland</td>\n",
       "      <td>EMEA</td>\n",
       "      <td>Koskitalo</td>\n",
       "      <td>Pirkko</td>\n",
       "      <td>Medium</td>\n",
       "    </tr>\n",
       "    <tr>\n",
       "      <th>2820</th>\n",
       "      <td>10386</td>\n",
       "      <td>43</td>\n",
       "      <td>100.00</td>\n",
       "      <td>4</td>\n",
       "      <td>5417.57</td>\n",
       "      <td>3/1/2005 0:00</td>\n",
       "      <td>Resolved</td>\n",
       "      <td>1</td>\n",
       "      <td>3</td>\n",
       "      <td>2005</td>\n",
       "      <td>...</td>\n",
       "      <td>C/ Moralzarzal, 86</td>\n",
       "      <td>NaN</td>\n",
       "      <td>Madrid</td>\n",
       "      <td>NaN</td>\n",
       "      <td>28034</td>\n",
       "      <td>Spain</td>\n",
       "      <td>EMEA</td>\n",
       "      <td>Freyre</td>\n",
       "      <td>Diego</td>\n",
       "      <td>Medium</td>\n",
       "    </tr>\n",
       "    <tr>\n",
       "      <th>2821</th>\n",
       "      <td>10397</td>\n",
       "      <td>34</td>\n",
       "      <td>62.24</td>\n",
       "      <td>1</td>\n",
       "      <td>2116.16</td>\n",
       "      <td>3/28/2005 0:00</td>\n",
       "      <td>Shipped</td>\n",
       "      <td>1</td>\n",
       "      <td>3</td>\n",
       "      <td>2005</td>\n",
       "      <td>...</td>\n",
       "      <td>1 rue Alsace-Lorraine</td>\n",
       "      <td>NaN</td>\n",
       "      <td>Toulouse</td>\n",
       "      <td>NaN</td>\n",
       "      <td>31000</td>\n",
       "      <td>France</td>\n",
       "      <td>EMEA</td>\n",
       "      <td>Roulet</td>\n",
       "      <td>Annette</td>\n",
       "      <td>Small</td>\n",
       "    </tr>\n",
       "    <tr>\n",
       "      <th>2822</th>\n",
       "      <td>10414</td>\n",
       "      <td>47</td>\n",
       "      <td>65.52</td>\n",
       "      <td>9</td>\n",
       "      <td>3079.44</td>\n",
       "      <td>5/6/2005 0:00</td>\n",
       "      <td>On Hold</td>\n",
       "      <td>2</td>\n",
       "      <td>5</td>\n",
       "      <td>2005</td>\n",
       "      <td>...</td>\n",
       "      <td>8616 Spinnaker Dr.</td>\n",
       "      <td>NaN</td>\n",
       "      <td>Boston</td>\n",
       "      <td>MA</td>\n",
       "      <td>51003</td>\n",
       "      <td>USA</td>\n",
       "      <td>NaN</td>\n",
       "      <td>Yoshido</td>\n",
       "      <td>Juri</td>\n",
       "      <td>Medium</td>\n",
       "    </tr>\n",
       "  </tbody>\n",
       "</table>\n",
       "<p>5 rows × 25 columns</p>\n",
       "</div>"
      ],
      "text/plain": [
       "      ORDERNUMBER  QUANTITYORDERED  PRICEEACH  ORDERLINENUMBER    SALES  \\\n",
       "2818        10350               20     100.00               15  2244.40   \n",
       "2819        10373               29     100.00                1  3978.51   \n",
       "2820        10386               43     100.00                4  5417.57   \n",
       "2821        10397               34      62.24                1  2116.16   \n",
       "2822        10414               47      65.52                9  3079.44   \n",
       "\n",
       "           ORDERDATE    STATUS  QTR_ID  MONTH_ID  YEAR_ID  ...  \\\n",
       "2818  12/2/2004 0:00   Shipped       4        12     2004  ...   \n",
       "2819  1/31/2005 0:00   Shipped       1         1     2005  ...   \n",
       "2820   3/1/2005 0:00  Resolved       1         3     2005  ...   \n",
       "2821  3/28/2005 0:00   Shipped       1         3     2005  ...   \n",
       "2822   5/6/2005 0:00   On Hold       2         5     2005  ...   \n",
       "\n",
       "               ADDRESSLINE1  ADDRESSLINE2      CITY STATE POSTALCODE  COUNTRY  \\\n",
       "2818     C/ Moralzarzal, 86           NaN    Madrid   NaN      28034    Spain   \n",
       "2819            Torikatu 38           NaN      Oulu   NaN      90110  Finland   \n",
       "2820     C/ Moralzarzal, 86           NaN    Madrid   NaN      28034    Spain   \n",
       "2821  1 rue Alsace-Lorraine           NaN  Toulouse   NaN      31000   France   \n",
       "2822     8616 Spinnaker Dr.           NaN    Boston    MA      51003      USA   \n",
       "\n",
       "     TERRITORY CONTACTLASTNAME CONTACTFIRSTNAME DEALSIZE  \n",
       "2818      EMEA          Freyre            Diego    Small  \n",
       "2819      EMEA       Koskitalo           Pirkko   Medium  \n",
       "2820      EMEA          Freyre            Diego   Medium  \n",
       "2821      EMEA          Roulet          Annette    Small  \n",
       "2822       NaN         Yoshido             Juri   Medium  \n",
       "\n",
       "[5 rows x 25 columns]"
      ]
     },
     "execution_count": 17,
     "metadata": {},
     "output_type": "execute_result"
    }
   ],
   "source": [
    "df.tail()"
   ]
  },
  {
   "cell_type": "code",
   "execution_count": null,
   "id": "2b2d7fb7-fa20-4d98-878d-de53c3c85507",
   "metadata": {},
   "outputs": [],
   "source": []
  },
  {
   "cell_type": "code",
   "execution_count": 18,
   "id": "52484cc4-be97-4228-ba2e-8282af1738ec",
   "metadata": {},
   "outputs": [],
   "source": [
    "# Total Number of rows and cloumns presents in dataset"
   ]
  },
  {
   "cell_type": "code",
   "execution_count": 19,
   "id": "b393785d-54d8-480d-9b3c-df96eb595a36",
   "metadata": {},
   "outputs": [
    {
     "data": {
      "text/plain": [
       "(2823, 25)"
      ]
     },
     "execution_count": 19,
     "metadata": {},
     "output_type": "execute_result"
    }
   ],
   "source": [
    "df.shape"
   ]
  },
  {
   "cell_type": "code",
   "execution_count": null,
   "id": "17c6ea0f-29cb-4e59-bc39-f281325cd8c2",
   "metadata": {},
   "outputs": [],
   "source": []
  },
  {
   "cell_type": "code",
   "execution_count": 20,
   "id": "82f3fb8e-7ca2-402a-8d4f-f08a16f5f813",
   "metadata": {},
   "outputs": [],
   "source": [
    "# checking datatype of columns"
   ]
  },
  {
   "cell_type": "code",
   "execution_count": 21,
   "id": "f58ed35d-984b-4509-b363-da9bd7ff0909",
   "metadata": {},
   "outputs": [
    {
     "data": {
      "text/plain": [
       "ORDERNUMBER           int64\n",
       "QUANTITYORDERED       int64\n",
       "PRICEEACH           float64\n",
       "ORDERLINENUMBER       int64\n",
       "SALES               float64\n",
       "ORDERDATE            object\n",
       "STATUS               object\n",
       "QTR_ID                int64\n",
       "MONTH_ID              int64\n",
       "YEAR_ID               int64\n",
       "PRODUCTLINE          object\n",
       "MSRP                  int64\n",
       "PRODUCTCODE          object\n",
       "CUSTOMERNAME         object\n",
       "PHONE                object\n",
       "ADDRESSLINE1         object\n",
       "ADDRESSLINE2         object\n",
       "CITY                 object\n",
       "STATE                object\n",
       "POSTALCODE           object\n",
       "COUNTRY              object\n",
       "TERRITORY            object\n",
       "CONTACTLASTNAME      object\n",
       "CONTACTFIRSTNAME     object\n",
       "DEALSIZE             object\n",
       "dtype: object"
      ]
     },
     "execution_count": 21,
     "metadata": {},
     "output_type": "execute_result"
    }
   ],
   "source": [
    "df.dtypes"
   ]
  },
  {
   "cell_type": "code",
   "execution_count": null,
   "id": "82af328b-4550-4fd0-8e11-4d4ef0111ae2",
   "metadata": {},
   "outputs": [],
   "source": []
  },
  {
   "cell_type": "code",
   "execution_count": 22,
   "id": "1876ab1e-903a-401e-bc3f-3914deaf6258",
   "metadata": {},
   "outputs": [],
   "source": [
    "# An Overview on dataset"
   ]
  },
  {
   "cell_type": "code",
   "execution_count": 23,
   "id": "4c579aac-4d12-43a7-afd0-955941d87d2d",
   "metadata": {},
   "outputs": [
    {
     "name": "stdout",
     "output_type": "stream",
     "text": [
      "<class 'pandas.core.frame.DataFrame'>\n",
      "RangeIndex: 2823 entries, 0 to 2822\n",
      "Data columns (total 25 columns):\n",
      " #   Column            Non-Null Count  Dtype  \n",
      "---  ------            --------------  -----  \n",
      " 0   ORDERNUMBER       2823 non-null   int64  \n",
      " 1   QUANTITYORDERED   2823 non-null   int64  \n",
      " 2   PRICEEACH         2823 non-null   float64\n",
      " 3   ORDERLINENUMBER   2823 non-null   int64  \n",
      " 4   SALES             2823 non-null   float64\n",
      " 5   ORDERDATE         2823 non-null   object \n",
      " 6   STATUS            2823 non-null   object \n",
      " 7   QTR_ID            2823 non-null   int64  \n",
      " 8   MONTH_ID          2823 non-null   int64  \n",
      " 9   YEAR_ID           2823 non-null   int64  \n",
      " 10  PRODUCTLINE       2823 non-null   object \n",
      " 11  MSRP              2823 non-null   int64  \n",
      " 12  PRODUCTCODE       2823 non-null   object \n",
      " 13  CUSTOMERNAME      2823 non-null   object \n",
      " 14  PHONE             2823 non-null   object \n",
      " 15  ADDRESSLINE1      2823 non-null   object \n",
      " 16  ADDRESSLINE2      302 non-null    object \n",
      " 17  CITY              2823 non-null   object \n",
      " 18  STATE             1337 non-null   object \n",
      " 19  POSTALCODE        2747 non-null   object \n",
      " 20  COUNTRY           2823 non-null   object \n",
      " 21  TERRITORY         1749 non-null   object \n",
      " 22  CONTACTLASTNAME   2823 non-null   object \n",
      " 23  CONTACTFIRSTNAME  2823 non-null   object \n",
      " 24  DEALSIZE          2823 non-null   object \n",
      "dtypes: float64(2), int64(7), object(16)\n",
      "memory usage: 551.5+ KB\n"
     ]
    }
   ],
   "source": [
    "df.info()"
   ]
  },
  {
   "cell_type": "markdown",
   "id": "78535a98-fee2-4111-96f5-b565d3ccdc78",
   "metadata": {},
   "source": [
    "# Performing Data Cleaning"
   ]
  },
  {
   "cell_type": "markdown",
   "id": "4af99370-c342-4adc-9f99-74801a6a2158",
   "metadata": {},
   "source": [
    "# Droping NAN values "
   ]
  },
  {
   "cell_type": "code",
   "execution_count": 24,
   "id": "d7edaeb3-2c69-41d7-a710-a72925a39bfd",
   "metadata": {},
   "outputs": [],
   "source": [
    "# Total number of null values in particular columns"
   ]
  },
  {
   "cell_type": "code",
   "execution_count": 25,
   "id": "097f9978-1886-456d-83f0-2a9a9dbe1b80",
   "metadata": {},
   "outputs": [
    {
     "data": {
      "text/plain": [
       "ORDERNUMBER            0\n",
       "QUANTITYORDERED        0\n",
       "PRICEEACH              0\n",
       "ORDERLINENUMBER        0\n",
       "SALES                  0\n",
       "ORDERDATE              0\n",
       "STATUS                 0\n",
       "QTR_ID                 0\n",
       "MONTH_ID               0\n",
       "YEAR_ID                0\n",
       "PRODUCTLINE            0\n",
       "MSRP                   0\n",
       "PRODUCTCODE            0\n",
       "CUSTOMERNAME           0\n",
       "PHONE                  0\n",
       "ADDRESSLINE1           0\n",
       "ADDRESSLINE2        2521\n",
       "CITY                   0\n",
       "STATE               1486\n",
       "POSTALCODE            76\n",
       "COUNTRY                0\n",
       "TERRITORY           1074\n",
       "CONTACTLASTNAME        0\n",
       "CONTACTFIRSTNAME       0\n",
       "DEALSIZE               0\n",
       "dtype: int64"
      ]
     },
     "execution_count": 25,
     "metadata": {},
     "output_type": "execute_result"
    }
   ],
   "source": [
    "df.isnull().sum()"
   ]
  },
  {
   "cell_type": "code",
   "execution_count": null,
   "id": "cf455fa6-9496-4632-9315-6746b3c1e33b",
   "metadata": {},
   "outputs": [],
   "source": []
  },
  {
   "cell_type": "code",
   "execution_count": 30,
   "id": "7d22f3f4-4a5c-404d-ac26-b9b374418c00",
   "metadata": {},
   "outputs": [],
   "source": [
    "# checking total % of null values presnt in overall dataset"
   ]
  },
  {
   "cell_type": "code",
   "execution_count": 34,
   "id": "cced1313-7f7a-440d-bf29-2805412a06be",
   "metadata": {},
   "outputs": [
    {
     "data": {
      "text/plain": [
       "7.30712008501594"
      ]
     },
     "execution_count": 34,
     "metadata": {},
     "output_type": "execute_result"
    }
   ],
   "source": [
    "(df.isnull().sum().sum())/(df.shape[0]*df.shape[1])*100"
   ]
  },
  {
   "cell_type": "code",
   "execution_count": 35,
   "id": "0fa1d502-b1d2-43fc-9648-24dfa85aed44",
   "metadata": {},
   "outputs": [],
   "source": [
    "# Total 7% of data is missing from the dataset"
   ]
  },
  {
   "cell_type": "code",
   "execution_count": null,
   "id": "8cb490a6-6845-43a9-9ff9-9016371839d3",
   "metadata": {},
   "outputs": [],
   "source": []
  },
  {
   "cell_type": "code",
   "execution_count": 26,
   "id": "483be96a-3d47-4566-939e-ffa16eeb8141",
   "metadata": {},
   "outputs": [],
   "source": [
    "# Checking % of null value in each column"
   ]
  },
  {
   "cell_type": "code",
   "execution_count": 27,
   "id": "ae619ebf-fbc0-4664-96a9-aab49ecc2701",
   "metadata": {},
   "outputs": [
    {
     "data": {
      "text/plain": [
       "ORDERNUMBER          0.000000\n",
       "QUANTITYORDERED      0.000000\n",
       "PRICEEACH            0.000000\n",
       "ORDERLINENUMBER      0.000000\n",
       "SALES                0.000000\n",
       "ORDERDATE            0.000000\n",
       "STATUS               0.000000\n",
       "QTR_ID               0.000000\n",
       "MONTH_ID             0.000000\n",
       "YEAR_ID              0.000000\n",
       "PRODUCTLINE          0.000000\n",
       "MSRP                 0.000000\n",
       "PRODUCTCODE          0.000000\n",
       "CUSTOMERNAME         0.000000\n",
       "PHONE                0.000000\n",
       "ADDRESSLINE1         0.000000\n",
       "ADDRESSLINE2        89.302161\n",
       "CITY                 0.000000\n",
       "STATE               52.639036\n",
       "POSTALCODE           2.692171\n",
       "COUNTRY              0.000000\n",
       "TERRITORY           38.044633\n",
       "CONTACTLASTNAME      0.000000\n",
       "CONTACTFIRSTNAME     0.000000\n",
       "DEALSIZE             0.000000\n",
       "dtype: float64"
      ]
     },
     "execution_count": 27,
     "metadata": {},
     "output_type": "execute_result"
    }
   ],
   "source": [
    "(df.isnull().sum()/df.shape[0])*100"
   ]
  },
  {
   "cell_type": "code",
   "execution_count": 29,
   "id": "93957674-37a3-434a-a4ec-486a4f2bf9c6",
   "metadata": {},
   "outputs": [],
   "source": [
    "# Here we got to know that in \n",
    "# column          % of null value\n",
    "# ADDRESSLINE2       89.302161\n",
    "# STATE              52.639036\n",
    "# POSTALCODE         2.692171\n",
    "# TERRITORY          38.044633\n",
    "# % of null values presents "
   ]
  },
  {
   "cell_type": "code",
   "execution_count": null,
   "id": "0255755a-f24f-4148-be12-5c1364f869ee",
   "metadata": {},
   "outputs": [],
   "source": []
  },
  {
   "cell_type": "code",
   "execution_count": null,
   "id": "bf06dded-9a09-492e-8713-a9f77fd17f04",
   "metadata": {},
   "outputs": [],
   "source": [
    "# if our column contain more than 80-90 percentage of null values then we have to drop it\n",
    "# b'coz fill this much of data manually can give inaccurate output"
   ]
  },
  {
   "cell_type": "code",
   "execution_count": 36,
   "id": "a4eb128d-1f92-4543-8b03-b1a3b776130f",
   "metadata": {},
   "outputs": [],
   "source": [
    "# Droping column\n",
    "df.drop('ADDRESSLINE2',axis = 1,inplace=True)"
   ]
  },
  {
   "cell_type": "code",
   "execution_count": 37,
   "id": "9e64b789-a66a-4da5-80fc-3566a9f13fab",
   "metadata": {},
   "outputs": [
    {
     "data": {
      "text/plain": [
       "Index(['ORDERNUMBER', 'QUANTITYORDERED', 'PRICEEACH', 'ORDERLINENUMBER',\n",
       "       'SALES', 'ORDERDATE', 'STATUS', 'QTR_ID', 'MONTH_ID', 'YEAR_ID',\n",
       "       'PRODUCTLINE', 'MSRP', 'PRODUCTCODE', 'CUSTOMERNAME', 'PHONE',\n",
       "       'ADDRESSLINE1', 'CITY', 'STATE', 'POSTALCODE', 'COUNTRY', 'TERRITORY',\n",
       "       'CONTACTLASTNAME', 'CONTACTFIRSTNAME', 'DEALSIZE'],\n",
       "      dtype='object')"
      ]
     },
     "execution_count": 37,
     "metadata": {},
     "output_type": "execute_result"
    }
   ],
   "source": [
    "df.columns"
   ]
  },
  {
   "cell_type": "code",
   "execution_count": 38,
   "id": "1b3c329d-37c4-46c2-81b4-11f14e5f2b4e",
   "metadata": {},
   "outputs": [],
   "source": [
    "# Sucessfully drop the column"
   ]
  },
  {
   "cell_type": "code",
   "execution_count": null,
   "id": "0fcd0519-6267-4dd8-9bb4-b8a73964e745",
   "metadata": {},
   "outputs": [],
   "source": []
  },
  {
   "cell_type": "markdown",
   "id": "45b35668-7f66-4555-b4d1-21645d99ea7d",
   "metadata": {},
   "source": [
    "# Filling of NAN values"
   ]
  },
  {
   "cell_type": "code",
   "execution_count": 40,
   "id": "ccb8e1fb-40fd-4e2d-add6-507d710c7aa5",
   "metadata": {},
   "outputs": [
    {
     "name": "stdout",
     "output_type": "stream",
     "text": [
      "<class 'pandas.core.frame.DataFrame'>\n",
      "RangeIndex: 2823 entries, 0 to 2822\n",
      "Data columns (total 24 columns):\n",
      " #   Column            Non-Null Count  Dtype  \n",
      "---  ------            --------------  -----  \n",
      " 0   ORDERNUMBER       2823 non-null   int64  \n",
      " 1   QUANTITYORDERED   2823 non-null   int64  \n",
      " 2   PRICEEACH         2823 non-null   float64\n",
      " 3   ORDERLINENUMBER   2823 non-null   int64  \n",
      " 4   SALES             2823 non-null   float64\n",
      " 5   ORDERDATE         2823 non-null   object \n",
      " 6   STATUS            2823 non-null   object \n",
      " 7   QTR_ID            2823 non-null   int64  \n",
      " 8   MONTH_ID          2823 non-null   int64  \n",
      " 9   YEAR_ID           2823 non-null   int64  \n",
      " 10  PRODUCTLINE       2823 non-null   object \n",
      " 11  MSRP              2823 non-null   int64  \n",
      " 12  PRODUCTCODE       2823 non-null   object \n",
      " 13  CUSTOMERNAME      2823 non-null   object \n",
      " 14  PHONE             2823 non-null   object \n",
      " 15  ADDRESSLINE1      2823 non-null   object \n",
      " 16  CITY              2823 non-null   object \n",
      " 17  STATE             1337 non-null   object \n",
      " 18  POSTALCODE        2747 non-null   object \n",
      " 19  COUNTRY           2823 non-null   object \n",
      " 20  TERRITORY         1749 non-null   object \n",
      " 21  CONTACTLASTNAME   2823 non-null   object \n",
      " 22  CONTACTFIRSTNAME  2823 non-null   object \n",
      " 23  DEALSIZE          2823 non-null   object \n",
      "dtypes: float64(2), int64(7), object(15)\n",
      "memory usage: 529.4+ KB\n"
     ]
    }
   ],
   "source": [
    "df.info()"
   ]
  },
  {
   "cell_type": "code",
   "execution_count": 44,
   "id": "361ee1db-e164-46ef-b977-5d80f10f84d4",
   "metadata": {},
   "outputs": [
    {
     "data": {
      "text/plain": [
       "ORDERNUMBER            0\n",
       "QUANTITYORDERED        0\n",
       "PRICEEACH              0\n",
       "ORDERLINENUMBER        0\n",
       "SALES                  0\n",
       "ORDERDATE              0\n",
       "STATUS                 0\n",
       "QTR_ID                 0\n",
       "MONTH_ID               0\n",
       "YEAR_ID                0\n",
       "PRODUCTLINE            0\n",
       "MSRP                   0\n",
       "PRODUCTCODE            0\n",
       "CUSTOMERNAME           0\n",
       "PHONE                  0\n",
       "ADDRESSLINE1           0\n",
       "CITY                   0\n",
       "STATE               1486\n",
       "POSTALCODE            76\n",
       "COUNTRY                0\n",
       "TERRITORY           1074\n",
       "CONTACTLASTNAME        0\n",
       "CONTACTFIRSTNAME       0\n",
       "DEALSIZE               0\n",
       "dtype: int64"
      ]
     },
     "execution_count": 44,
     "metadata": {},
     "output_type": "execute_result"
    }
   ],
   "source": [
    "df.isnull().sum()"
   ]
  },
  {
   "cell_type": "code",
   "execution_count": 45,
   "id": "c4675833-1187-4bce-acfa-c0dd30f724d4",
   "metadata": {},
   "outputs": [],
   "source": [
    "# Here the columns which contain null values are of object datatypes"
   ]
  },
  {
   "cell_type": "code",
   "execution_count": 50,
   "id": "fd1556f6-2b15-4097-a51b-65cd8c004122",
   "metadata": {},
   "outputs": [
    {
     "name": "stderr",
     "output_type": "stream",
     "text": [
      "C:\\Users\\ankit\\AppData\\Local\\Temp\\ipykernel_8296\\2214743516.py:2: FutureWarning: A value is trying to be set on a copy of a DataFrame or Series through chained assignment using an inplace method.\n",
      "The behavior will change in pandas 3.0. This inplace method will never work because the intermediate object on which we are setting values always behaves as a copy.\n",
      "\n",
      "For example, when doing 'df[col].method(value, inplace=True)', try using 'df.method({col: value}, inplace=True)' or df[col] = df[col].method(value) instead, to perform the operation inplace on the original object.\n",
      "\n",
      "\n",
      "  df[i].fillna(df[i].mode()[0],inplace=True)\n"
     ]
    }
   ],
   "source": [
    "for i  in df.select_dtypes(include= 'object').columns:\n",
    "    df[i].fillna(df[i].mode()[0],inplace=True)"
   ]
  },
  {
   "cell_type": "code",
   "execution_count": 51,
   "id": "dca38bbf-0114-4f66-aef6-32e1d43b8a9c",
   "metadata": {},
   "outputs": [
    {
     "data": {
      "text/plain": [
       "ORDERNUMBER         0\n",
       "QUANTITYORDERED     0\n",
       "PRICEEACH           0\n",
       "ORDERLINENUMBER     0\n",
       "SALES               0\n",
       "ORDERDATE           0\n",
       "STATUS              0\n",
       "QTR_ID              0\n",
       "MONTH_ID            0\n",
       "YEAR_ID             0\n",
       "PRODUCTLINE         0\n",
       "MSRP                0\n",
       "PRODUCTCODE         0\n",
       "CUSTOMERNAME        0\n",
       "PHONE               0\n",
       "ADDRESSLINE1        0\n",
       "CITY                0\n",
       "STATE               0\n",
       "POSTALCODE          0\n",
       "COUNTRY             0\n",
       "TERRITORY           0\n",
       "CONTACTLASTNAME     0\n",
       "CONTACTFIRSTNAME    0\n",
       "DEALSIZE            0\n",
       "dtype: int64"
      ]
     },
     "execution_count": 51,
     "metadata": {},
     "output_type": "execute_result"
    }
   ],
   "source": [
    "df.isnull().sum()"
   ]
  },
  {
   "cell_type": "code",
   "execution_count": 52,
   "id": "b25cd54a-0df4-4877-b6b3-1154f525820b",
   "metadata": {},
   "outputs": [],
   "source": [
    "# We sucessfully able to fill missing values"
   ]
  },
  {
   "cell_type": "code",
   "execution_count": null,
   "id": "88c9857a-2f27-45e4-90af-8dffed98bea3",
   "metadata": {},
   "outputs": [],
   "source": []
  },
  {
   "cell_type": "markdown",
   "id": "45384148-9117-45c6-a22d-88642c554973",
   "metadata": {},
   "source": [
    "# Check for Duplicates"
   ]
  },
  {
   "cell_type": "code",
   "execution_count": 55,
   "id": "cfe5ee85-27de-44ff-b03e-de84efcdf36f",
   "metadata": {},
   "outputs": [
    {
     "data": {
      "text/plain": [
       "0"
      ]
     },
     "execution_count": 55,
     "metadata": {},
     "output_type": "execute_result"
    }
   ],
   "source": [
    "df.duplicated().sum()"
   ]
  },
  {
   "cell_type": "code",
   "execution_count": null,
   "id": "186407f6-7cb0-4775-8b41-9cd252ad5118",
   "metadata": {},
   "outputs": [],
   "source": []
  },
  {
   "cell_type": "markdown",
   "id": "51911f29-9f9d-432f-b4f5-f3a991050b76",
   "metadata": {},
   "source": [
    "# Convert Data Types: Ensure columns like dates and numerical values are in the correct format."
   ]
  },
  {
   "cell_type": "code",
   "execution_count": 56,
   "id": "68ae482f-7b25-4119-998b-9543a69101f7",
   "metadata": {},
   "outputs": [
    {
     "name": "stdout",
     "output_type": "stream",
     "text": [
      "<class 'pandas.core.frame.DataFrame'>\n",
      "RangeIndex: 2823 entries, 0 to 2822\n",
      "Data columns (total 24 columns):\n",
      " #   Column            Non-Null Count  Dtype  \n",
      "---  ------            --------------  -----  \n",
      " 0   ORDERNUMBER       2823 non-null   int64  \n",
      " 1   QUANTITYORDERED   2823 non-null   int64  \n",
      " 2   PRICEEACH         2823 non-null   float64\n",
      " 3   ORDERLINENUMBER   2823 non-null   int64  \n",
      " 4   SALES             2823 non-null   float64\n",
      " 5   ORDERDATE         2823 non-null   object \n",
      " 6   STATUS            2823 non-null   object \n",
      " 7   QTR_ID            2823 non-null   int64  \n",
      " 8   MONTH_ID          2823 non-null   int64  \n",
      " 9   YEAR_ID           2823 non-null   int64  \n",
      " 10  PRODUCTLINE       2823 non-null   object \n",
      " 11  MSRP              2823 non-null   int64  \n",
      " 12  PRODUCTCODE       2823 non-null   object \n",
      " 13  CUSTOMERNAME      2823 non-null   object \n",
      " 14  PHONE             2823 non-null   object \n",
      " 15  ADDRESSLINE1      2823 non-null   object \n",
      " 16  CITY              2823 non-null   object \n",
      " 17  STATE             2823 non-null   object \n",
      " 18  POSTALCODE        2823 non-null   object \n",
      " 19  COUNTRY           2823 non-null   object \n",
      " 20  TERRITORY         2823 non-null   object \n",
      " 21  CONTACTLASTNAME   2823 non-null   object \n",
      " 22  CONTACTFIRSTNAME  2823 non-null   object \n",
      " 23  DEALSIZE          2823 non-null   object \n",
      "dtypes: float64(2), int64(7), object(15)\n",
      "memory usage: 529.4+ KB\n"
     ]
    }
   ],
   "source": [
    "df.info()"
   ]
  },
  {
   "cell_type": "code",
   "execution_count": 57,
   "id": "f08e8e5b-21bd-44e6-9e71-03daee664d18",
   "metadata": {},
   "outputs": [],
   "source": [
    "# ORDERDATE column should be in date format but it is in object"
   ]
  },
  {
   "cell_type": "code",
   "execution_count": 58,
   "id": "1cad0418-4431-4f5a-a3d7-9ac97a1b962c",
   "metadata": {},
   "outputs": [],
   "source": [
    "df['ORDERDATE'] = pd.to_datetime(df['ORDERDATE'])"
   ]
  },
  {
   "cell_type": "code",
   "execution_count": 60,
   "id": "b7a33142-efc8-41cb-8071-aa64200b300f",
   "metadata": {},
   "outputs": [
    {
     "name": "stdout",
     "output_type": "stream",
     "text": [
      "<class 'pandas.core.frame.DataFrame'>\n",
      "RangeIndex: 2823 entries, 0 to 2822\n",
      "Data columns (total 24 columns):\n",
      " #   Column            Non-Null Count  Dtype         \n",
      "---  ------            --------------  -----         \n",
      " 0   ORDERNUMBER       2823 non-null   int64         \n",
      " 1   QUANTITYORDERED   2823 non-null   int64         \n",
      " 2   PRICEEACH         2823 non-null   float64       \n",
      " 3   ORDERLINENUMBER   2823 non-null   int64         \n",
      " 4   SALES             2823 non-null   float64       \n",
      " 5   ORDERDATE         2823 non-null   datetime64[ns]\n",
      " 6   STATUS            2823 non-null   object        \n",
      " 7   QTR_ID            2823 non-null   int64         \n",
      " 8   MONTH_ID          2823 non-null   int64         \n",
      " 9   YEAR_ID           2823 non-null   int64         \n",
      " 10  PRODUCTLINE       2823 non-null   object        \n",
      " 11  MSRP              2823 non-null   int64         \n",
      " 12  PRODUCTCODE       2823 non-null   object        \n",
      " 13  CUSTOMERNAME      2823 non-null   object        \n",
      " 14  PHONE             2823 non-null   object        \n",
      " 15  ADDRESSLINE1      2823 non-null   object        \n",
      " 16  CITY              2823 non-null   object        \n",
      " 17  STATE             2823 non-null   object        \n",
      " 18  POSTALCODE        2823 non-null   object        \n",
      " 19  COUNTRY           2823 non-null   object        \n",
      " 20  TERRITORY         2823 non-null   object        \n",
      " 21  CONTACTLASTNAME   2823 non-null   object        \n",
      " 22  CONTACTFIRSTNAME  2823 non-null   object        \n",
      " 23  DEALSIZE          2823 non-null   object        \n",
      "dtypes: datetime64[ns](1), float64(2), int64(7), object(14)\n",
      "memory usage: 529.4+ KB\n"
     ]
    }
   ],
   "source": [
    "df.info()"
   ]
  },
  {
   "cell_type": "code",
   "execution_count": null,
   "id": "97a91e33-782b-49aa-bac9-ffdf8ab18187",
   "metadata": {},
   "outputs": [],
   "source": []
  },
  {
   "cell_type": "markdown",
   "id": "7826b4bb-11b5-4b35-8d8d-c656fbdc75c3",
   "metadata": {},
   "source": [
    "# Handle Outliers:"
   ]
  },
  {
   "cell_type": "code",
   "execution_count": null,
   "id": "6dc71fd3-f82a-4494-8e32-2345cb566547",
   "metadata": {},
   "outputs": [],
   "source": []
  }
 ],
 "metadata": {
  "kernelspec": {
   "display_name": "Python 3 (ipykernel)",
   "language": "python",
   "name": "python3"
  },
  "language_info": {
   "codemirror_mode": {
    "name": "ipython",
    "version": 3
   },
   "file_extension": ".py",
   "mimetype": "text/x-python",
   "name": "python",
   "nbconvert_exporter": "python",
   "pygments_lexer": "ipython3",
   "version": "3.12.8"
  }
 },
 "nbformat": 4,
 "nbformat_minor": 5
}
